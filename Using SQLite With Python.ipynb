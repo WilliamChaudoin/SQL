{
 "cells": [
  {
   "cell_type": "markdown",
   "id": "cef33716-4a7a-4740-a29b-375cf3a256d2",
   "metadata": {},
   "source": [
    "# Using SQLite With Python"
   ]
  },
  {
   "cell_type": "code",
   "execution_count": 29,
   "id": "c2c6b112-0135-4749-8cc7-1278536aa66e",
   "metadata": {
    "tags": []
   },
   "outputs": [],
   "source": [
    "# Importing Libraries\n",
    "import sqlite3 as sq3\n",
    "import pandas.io.sql as pds\n",
    "import pandas as pd"
   ]
  },
  {
   "cell_type": "code",
   "execution_count": 31,
   "id": "bf4d586b-a93d-4ab6-970b-046e47d159bb",
   "metadata": {
    "tags": []
   },
   "outputs": [],
   "source": [
    "# Initialize Path To SQLite Database\n",
    "path = 'classic_rock.db'\n",
    "con = sq3.Connection(path)"
   ]
  },
  {
   "cell_type": "code",
   "execution_count": 33,
   "id": "49bf7dc8-16ae-4459-808a-2a7f6207a854",
   "metadata": {
    "tags": []
   },
   "outputs": [
    {
     "data": {
      "text/plain": [
       "<sqlite3.Connection at 0x1c5d64a85e0>"
      ]
     },
     "execution_count": 33,
     "metadata": {},
     "output_type": "execute_result"
    }
   ],
   "source": [
    "# Checking Connection\n",
    "con\n"
   ]
  },
  {
   "cell_type": "code",
   "execution_count": 35,
   "id": "10723c64-0f3b-4865-8d8a-62530ed73d12",
   "metadata": {
    "tags": []
   },
   "outputs": [],
   "source": [
    "# Setting Up Query\n",
    "query = ''' SELECT * FROM rock_songs; '''"
   ]
  },
  {
   "cell_type": "code",
   "execution_count": 37,
   "id": "65216049-eb56-4163-93b6-f9116a3ca479",
   "metadata": {
    "tags": []
   },
   "outputs": [
    {
     "name": "stdout",
     "output_type": "stream",
     "text": [
      "                     Song        Artist  Release_Year  PlayCount\n",
      "0        Caught Up in You   .38 Special        1982.0         82\n",
      "1         Hold On Loosely   .38 Special        1981.0         85\n",
      "2  Rockin' Into the Night   .38 Special        1980.0         18\n",
      "3       Art For Arts Sake          10cc        1975.0          1\n",
      "4              Kryptonite  3 Doors Down        2000.0         13\n"
     ]
    }
   ],
   "source": [
    "# Executing Query\n",
    "data = pds.read_sql(query, con)\n",
    "print(data.head())"
   ]
  },
  {
   "cell_type": "code",
   "execution_count": 39,
   "id": "767c3461-f115-430a-b2e2-d35a6ac8d863",
   "metadata": {
    "tags": []
   },
   "outputs": [],
   "source": [
    "# Alternative Queries\n",
    "query2 = ''' SELECT Artist, Release_Year, COUNT(*) AS num_songs, AVG(PlayCount) AS avg_plays  \n",
    "    FROM rock_songs\n",
    "    GROUP BY Artist, Release_Year\n",
    "    ORDER BY num_songs DESC; '''"
   ]
  },
  {
   "cell_type": "code",
   "execution_count": 41,
   "id": "d776be2c-5af8-4440-8699-668d803e0365",
   "metadata": {
    "tags": []
   },
   "outputs": [
    {
     "name": "stdout",
     "output_type": "stream",
     "text": [
      "         Artist  Release_Year  num_songs  avg_plays\n",
      "0   The Beatles        1967.0         23   6.565217\n",
      "1  Led Zeppelin        1969.0         18  21.000000\n",
      "2   The Beatles        1965.0         15   3.800000\n",
      "3   The Beatles        1968.0         13  13.000000\n",
      "4   The Beatles        1969.0         13  15.000000\n"
     ]
    }
   ],
   "source": [
    "# Execute the query\n",
    "data2 = pds.read_sql(query2, con)\n",
    "print(data2.head())"
   ]
  },
  {
   "cell_type": "code",
   "execution_count": 43,
   "id": "1b2ea707-edd5-4152-bf65-3ab5fe941d57",
   "metadata": {
    "tags": []
   },
   "outputs": [],
   "source": [
    "# Initialize Path To New SQLite Database\n",
    "path2 = 'baseball.db'\n",
    "con2 = sq3.Connection(path2)"
   ]
  },
  {
   "cell_type": "code",
   "execution_count": 45,
   "id": "473af196-5344-4be7-a796-967557364672",
   "metadata": {
    "tags": []
   },
   "outputs": [
    {
     "data": {
      "text/plain": [
       "<sqlite3.Connection at 0x1c5d64a8400>"
      ]
     },
     "execution_count": 45,
     "metadata": {},
     "output_type": "execute_result"
    }
   ],
   "source": [
    "# Checking Connection\n",
    "con2"
   ]
  },
  {
   "cell_type": "code",
   "execution_count": 47,
   "id": "71ae5739-a346-4e0d-a63b-0e4f785bf980",
   "metadata": {
    "tags": []
   },
   "outputs": [],
   "source": [
    "# Setting Up Query\n",
    "query3 = ''' SELECT * FROM allstarfull; '''"
   ]
  },
  {
   "cell_type": "code",
   "execution_count": 49,
   "id": "1b123e60-36ef-4c17-bc48-ef39fb983c77",
   "metadata": {
    "tags": []
   },
   "outputs": [
    {
     "name": "stdout",
     "output_type": "stream",
     "text": [
      "   index   playerID  yearID  gameNum        gameID teamID lgID   GP  \\\n",
      "0      0  gomezle01    1933        0  ALS193307060    NYA   AL  1.0   \n",
      "1      1  ferreri01    1933        0  ALS193307060    BOS   AL  1.0   \n",
      "2      2  gehrilo01    1933        0  ALS193307060    NYA   AL  1.0   \n",
      "3      3  gehrich01    1933        0  ALS193307060    DET   AL  1.0   \n",
      "4      4  dykesji01    1933        0  ALS193307060    CHA   AL  1.0   \n",
      "\n",
      "   startingPos  \n",
      "0          1.0  \n",
      "1          2.0  \n",
      "2          3.0  \n",
      "3          4.0  \n",
      "4          5.0  \n"
     ]
    }
   ],
   "source": [
    "# Executing Query\n",
    "data3 = pds.read_sql(query3, con2)\n",
    "print(data3.head())"
   ]
  },
  {
   "cell_type": "code",
   "execution_count": 51,
   "id": "2ed1abc9-2561-418c-bc74-776202fc967a",
   "metadata": {
    "tags": []
   },
   "outputs": [
    {
     "name": "stdout",
     "output_type": "stream",
     "text": [
      "    type                  name     tbl_name  rootpage  \\\n",
      "0  table           allstarfull  allstarfull         2   \n",
      "1  index  ix_allstarfull_index  allstarfull         3   \n",
      "2  table               schools      schools        26   \n",
      "3  index      ix_schools_index      schools        31   \n",
      "4  table               batting      batting        99   \n",
      "5  index      ix_batting_index      batting       100   \n",
      "\n",
      "                                                 sql  \n",
      "0  CREATE TABLE \"allstarfull\" (\\n\"index\" INTEGER,...  \n",
      "1  CREATE INDEX \"ix_allstarfull_index\"ON \"allstar...  \n",
      "2  CREATE TABLE \"schools\" (\\n\"index\" INTEGER,\\n  ...  \n",
      "3  CREATE INDEX \"ix_schools_index\"ON \"schools\" (\"...  \n",
      "4  CREATE TABLE \"batting\" (\\n\"index\" INTEGER,\\n  ...  \n",
      "5  CREATE INDEX \"ix_batting_index\"ON \"batting\" (\"...  \n"
     ]
    }
   ],
   "source": [
    "# Alternative Query 1\n",
    "alt1 = pd.read_sql('SELECT * FROM sqlite_master', con2)\n",
    "print(alt1)"
   ]
  },
  {
   "cell_type": "code",
   "execution_count": 53,
   "id": "5f3cb010-1fb6-4a96-8754-77dc28b399a7",
   "metadata": {
    "tags": []
   },
   "outputs": [
    {
     "name": "stdout",
     "output_type": "stream",
     "text": [
      "    playerID  num_games_played  avg_starting_position\n",
      "0  musiast01              24.0               6.357143\n",
      "1   mayswi01              24.0               8.000000\n",
      "2  aaronha01              24.0               8.470588\n"
     ]
    }
   ],
   "source": [
    "# Alternative Query 2\n",
    "query4 = \"\"\" SELECT playerID, sum(GP) AS num_games_played, AVG(startingPos) AS avg_starting_position\n",
    "    FROM allstarfull\n",
    "    GROUP BY playerID\n",
    "    ORDER BY num_games_played DESC, avg_starting_position ASC\n",
    "    LIMIT 3 \"\"\"\n",
    "alt2 = pd.read_sql(query4, con2)\n",
    "print(alt2.head())"
   ]
  }
 ],
 "metadata": {
  "kernelspec": {
   "display_name": "Python 3 (ipykernel)",
   "language": "python",
   "name": "python3"
  },
  "language_info": {
   "codemirror_mode": {
    "name": "ipython",
    "version": 3
   },
   "file_extension": ".py",
   "mimetype": "text/x-python",
   "name": "python",
   "nbconvert_exporter": "python",
   "pygments_lexer": "ipython3",
   "version": "3.11.7"
  }
 },
 "nbformat": 4,
 "nbformat_minor": 5
}
